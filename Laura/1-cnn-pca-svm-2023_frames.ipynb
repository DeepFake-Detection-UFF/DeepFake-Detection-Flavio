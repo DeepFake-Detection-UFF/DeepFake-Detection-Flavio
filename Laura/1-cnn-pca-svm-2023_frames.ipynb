{
 "cells": [
  {
   "cell_type": "code",
   "execution_count": 44,
   "metadata": {
    "_cell_guid": "b1076dfc-b9ad-4769-8c92-a6c4dae69d19",
    "_uuid": "8f2839f25d086af736a60e9eeb907d3b93b6e0e5",
    "execution": {
     "iopub.execute_input": "2025-05-01T12:42:59.786105Z",
     "iopub.status.busy": "2025-05-01T12:42:59.785675Z",
     "iopub.status.idle": "2025-05-01T12:43:21.239295Z",
     "shell.execute_reply": "2025-05-01T12:43:21.238070Z",
     "shell.execute_reply.started": "2025-05-01T12:42:59.786042Z"
    },
    "jupyter": {
     "outputs_hidden": true
    }
   },
   "outputs": [],
   "source": [
    "# This Python 3 environment comes with many helpful analytics libraries installed\n",
    "# It is defined by the kaggle/python Docker image: https://github.com/kaggle/docker-python\n",
    "# For example, here's several helpful packages to load\n",
    "\n",
    "import numpy as np # linear algebra\n",
    "import pandas as pd # data processing, CSV file I/O (e.g. pd.read_csv)\n",
    "import cv2\n",
    "from tqdm import tqdm\n",
    "import matplotlib.pyplot as plt\n",
    "import glob\n",
    "\n",
    "from sklearn.decomposition import PCA\n",
    "from sklearn.svm import SVC\n",
    "from sklearn.model_selection import train_test_split\n",
    "from sklearn.metrics import classification_report, accuracy_score,roc_auc_score, f1_score,confusion_matrix, ConfusionMatrixDisplay\n",
    "\n",
    "from tensorflow.keras.applications import VGG16, ResNet50\n",
    "from tensorflow.keras.applications.efficientnet import EfficientNetB0\n",
    "from tensorflow.keras.applications.vgg16 import preprocess_input as preprocess_vgg\n",
    "from tensorflow.keras.applications.resnet import preprocess_input as preprocess_resnet\n",
    "from tensorflow.keras.applications.efficientnet import preprocess_input as preprocess_eff\n",
    "from tensorflow.keras.models import Model\n",
    "\n",
    "import tensorflow as tf\n",
    "from tensorflow.keras.applications import VGG16, ResNet50, EfficientNetB0\n",
    "from tensorflow.keras.applications.vgg16 import preprocess_input as preprocess_vgg\n",
    "from tensorflow.keras.applications.resnet50 import preprocess_input as preprocess_resnet\n",
    "from tensorflow.keras.applications.efficientnet import preprocess_input as preprocess_eff\n",
    "\n",
    "import joblib\n",
    "\n",
    "# Input data files are available in the read-only \"../input/\" directory\n",
    "# For example, running this (by clicking run or pressing Shift+Enter) will list all files under the input directory\n",
    "\n",
    "import os\n",
    "for dirname, _, filenames in os.walk('/datasets/face_extraction'):\n",
    "    for filename in filenames:\n",
    "        print(os.path.join(dirname, filename))\n",
    "\n",
    "# You can write up to 20GB to the current directory (/kaggle/working/) that gets preserved as output when you create a version using \"Save & Run All\" \n",
    "# You can also write temporary files to /kaggle/temp/, but they won't be saved outside of the current session"
   ]
  },
  {
   "cell_type": "code",
   "execution_count": 38,
   "metadata": {
    "execution": {
     "iopub.execute_input": "2025-05-01T12:43:21.241438Z",
     "iopub.status.busy": "2025-05-01T12:43:21.240571Z",
     "iopub.status.idle": "2025-05-01T12:43:26.663758Z",
     "shell.execute_reply": "2025-05-01T12:43:26.662647Z",
     "shell.execute_reply.started": "2025-05-01T12:43:21.241405Z"
    }
   },
   "outputs": [],
   "source": [
    "# models\n",
    "vgg_model = VGG16(weights='imagenet', include_top=False, pooling='avg')\n",
    "resnet_model = ResNet50(weights='imagenet', include_top=False, pooling='avg')\n",
    "eff_model = EfficientNetB0(weights='imagenet', include_top=False, pooling='avg')"
   ]
  },
  {
   "cell_type": "code",
   "execution_count": 39,
   "metadata": {},
   "outputs": [],
   "source": [
    "def extract_features_from_image(image_path): \n",
    "    # Verifica se o arquivo é uma imagem válida\n",
    "    if not os.path.isfile(image_path):\n",
    "        print(f\"[ERRO] O arquivo {image_path} não é válido ou não é uma imagem.\")\n",
    "        return None\n",
    "\n",
    "    # Carrega a imagem\n",
    "    img = cv2.imread(image_path)\n",
    "    if img is None:\n",
    "        print(f\"[ERRO] Não foi possível carregar a imagem {image_path}.\")\n",
    "        return None\n",
    "\n",
    "    # Redimensiona a imagem\n",
    "    img_resized = cv2.resize(img, (224, 224))\n",
    "    img_rgb = cv2.cvtColor(img_resized, cv2.COLOR_BGR2RGB)\n",
    "\n",
    "    # Processamento para VGG, ResNet e EfficientNet\n",
    "    img_batch_vgg = preprocess_vgg(np.expand_dims(img_rgb.astype('float32'), axis=0))\n",
    "    img_batch_resnet = preprocess_resnet(np.expand_dims(img_rgb.astype('float32'), axis=0))\n",
    "    img_batch_eff = preprocess_eff(np.expand_dims(img_rgb.astype('float32'), axis=0))\n",
    "\n",
    "    vgg_feat = vgg_model.predict(img_batch_vgg, verbose=0).flatten()\n",
    "    res_feat = resnet_model.predict(img_batch_resnet, verbose=0).flatten()\n",
    "    eff_feat = eff_model.predict(img_batch_eff, verbose=0).flatten()\n",
    "\n",
    "    combined = np.concatenate([vgg_feat, res_feat, eff_feat])\n",
    "\n",
    "    return combined  # Retorne a combinação das features"
   ]
  },
  {
   "cell_type": "code",
   "execution_count": 40,
   "metadata": {},
   "outputs": [],
   "source": [
    "def generate_model(real_path, fake_path, fake_name):\n",
    "    X_train, y_train = [], []\n",
    "    X_test, y_test = [], []\n",
    "\n",
    "    for label, path in [(\"REAL\", real_path), (\"FAKE\", fake_path)]:\n",
    "        image_files = os.listdir(path)\n",
    "        test_files = image_files[:50]\n",
    "        train_files = image_files[50:]\n",
    "\n",
    "        for image_name in tqdm(test_files, desc=f\"{label} (TESTE)\"):\n",
    "            image_path = os.path.join(path, image_name)\n",
    "            feat = extract_features_from_image(image_path)\n",
    "            if feat is not None:\n",
    "                X_test.append(feat)\n",
    "                y_test.append(0 if label == \"REAL\" else 1)\n",
    "\n",
    "        for image_name in tqdm(train_files, desc=f\"{label} (TREINO)\"):\n",
    "            image_path = os.path.join(path, image_name)\n",
    "            feat = extract_features_from_image(image_path)\n",
    "            if feat is not None:\n",
    "                X_train.append(feat)\n",
    "                y_train.append(0 if label == \"REAL\" else 1)\n",
    "\n",
    "    if len(X_train) == 0 or len(X_test) == 0:\n",
    "        print(\"Erro: Não foram extraídas características suficientes para o treino ou teste.\")\n",
    "        return\n",
    "\n",
    "    X_train = np.array(X_train)\n",
    "    y_train = np.array(y_train)\n",
    "    X_test = np.array(X_test)\n",
    "    y_test = np.array(y_test)\n",
    "\n",
    "    pca = PCA(n_components=10)\n",
    "    X_train_pca = pca.fit_transform(X_train)\n",
    "    X_test_pca = pca.transform(X_test)\n",
    "\n",
    "    svm = SVC(kernel='linear', probability=True)\n",
    "    svm.fit(X_train_pca, y_train)\n",
    "\n",
    "    y_pred = svm.predict(X_test_pca)\n",
    "\n",
    "    print(f\"\\n=== Avaliação para modelo com FAKE = {fake_name} ===\")\n",
    "    print(\"Accuracy:\", accuracy_score(y_test, y_pred))\n",
    "    print(\"F1-score (macro):\", f1_score(y_test, y_pred, average='macro'))\n",
    "\n",
    "    try:\n",
    "        y_scores = svm.decision_function(X_test_pca)\n",
    "        auc = roc_auc_score(y_test, y_scores)\n",
    "        print(\"AUC:\", auc)\n",
    "    except:\n",
    "        print(\"AUC não disponível.\")\n",
    "\n",
    "    print(\"Classification Report:\\n\", classification_report(y_test, y_pred))\n",
    "\n",
    "    # Matriz de confusão\n",
    "    cm = confusion_matrix(y_test, y_pred)\n",
    "    disp = ConfusionMatrixDisplay(confusion_matrix=cm, display_labels=[\"REAL\", \"FAKE\"])\n",
    "    disp.plot()\n",
    "    plt.title(f\"Matriz de Confusão - {fake_name}\")\n",
    "    plt.show()\n",
    "\n",
    "    # Salvar modelos\n",
    "    os.makedirs(\"modelos\", exist_ok=True)\n",
    "    joblib.dump(svm, f\"modelos/svm_{fake_name}.joblib\")\n",
    "    joblib.dump(pca, f\"modelos/pca_{fake_name}.joblib\")"
   ]
  },
  {
   "cell_type": "code",
   "execution_count": 41,
   "metadata": {
    "execution": {
     "iopub.execute_input": "2025-05-01T12:43:26.667160Z",
     "iopub.status.busy": "2025-05-01T12:43:26.666822Z",
     "iopub.status.idle": "2025-05-01T12:43:26.673320Z",
     "shell.execute_reply": "2025-05-01T12:43:26.672207Z",
     "shell.execute_reply.started": "2025-05-01T12:43:26.667137Z"
    }
   },
   "outputs": [],
   "source": [
    "def plot_confusion_matrix(y_test, y_pred):\n",
    "    cm = confusion_matrix(y_test, y_pred)\n",
    "    disp = ConfusionMatrixDisplay(confusion_matrix=cm, display_labels=[\"REAL\", \"FAKE\"])\n",
    "    plt.figure(figsize=(5, 5))\n",
    "    disp.plot(cmap=plt.cm.Blues)\n",
    "    plt.title(\"Confusion Matrix\")\n",
    "    plt.show()"
   ]
  },
  {
   "cell_type": "code",
   "execution_count": 42,
   "metadata": {},
   "outputs": [],
   "source": [
    "def train_all_models():\n",
    "    real_path = \"datasets/face_extraction/REAL/\"\n",
    "    fake_paths = {\n",
    "        \"Deepfake\": \"datasets/face_extraction/Deepfake/\",\n",
    "        \"DeepfakeDetection\": \"datasets/face_extraction/DeepfakeDetection/\",\n",
    "        \"Face2Face\": \"datasets/face_extraction/Face2Face/\",\n",
    "        \"FaceShifter\": \"datasets/face_extraction/FaceShifter/\",\n",
    "        \"FaceSwap\": \"datasets/face_extraction/FaceSwap/\",\n",
    "        \"NeuralTextures\": \"datasets/face_extraction/NeuralTextures/\"\n",
    "    }\n",
    "\n",
    "    for fake_name, fake_path in fake_paths.items():\n",
    "        generate_model(real_path, fake_path, fake_name)"
   ]
  },
  {
   "cell_type": "code",
   "execution_count": 45,
   "metadata": {},
   "outputs": [
    {
     "name": "stderr",
     "output_type": "stream",
     "text": [
      "REAL (TESTE): 100%|██████████| 50/50 [00:06<00:00,  7.94it/s]\n",
      "REAL (TREINO): 100%|██████████| 200/200 [00:25<00:00,  7.78it/s]\n",
      "FAKE (TESTE): 100%|██████████| 50/50 [00:06<00:00,  7.95it/s]\n",
      "FAKE (TREINO): 100%|██████████| 200/200 [00:25<00:00,  7.95it/s]\n"
     ]
    },
    {
     "name": "stdout",
     "output_type": "stream",
     "text": [
      "\n",
      "=== Avaliação para modelo com FAKE = Deepfake ===\n",
      "Accuracy: 0.6\n",
      "F1-score (macro): 0.5974235104669887\n",
      "AUC: 0.6484\n",
      "Classification Report:\n",
      "               precision    recall  f1-score   support\n",
      "\n",
      "           0       0.59      0.68      0.63        50\n",
      "           1       0.62      0.52      0.57        50\n",
      "\n",
      "    accuracy                           0.60       100\n",
      "   macro avg       0.60      0.60      0.60       100\n",
      "weighted avg       0.60      0.60      0.60       100\n",
      "\n"
     ]
    },
    {
     "data": {
      "image/png": "[encoded data removed]",
      "text/plain": [
       "<Figure size 432x288 with 2 Axes>"
      ]
     },
     "metadata": {
      "needs_background": "light"
     },
     "output_type": "display_data"
    },
    {
     "name": "stderr",
     "output_type": "stream",
     "text": [
      "REAL (TESTE): 100%|██████████| 50/50 [00:06<00:00,  7.72it/s]\n",
      "REAL (TREINO): 100%|██████████| 200/200 [00:25<00:00,  7.99it/s]\n",
      "FAKE (TESTE): 100%|██████████| 50/50 [00:06<00:00,  7.81it/s]\n",
      "FAKE (TREINO): 100%|██████████| 200/200 [00:25<00:00,  7.77it/s]\n"
     ]
    },
    {
     "name": "stdout",
     "output_type": "stream",
     "text": [
      "\n",
      "=== Avaliação para modelo com FAKE = DeepfakeDetection ===\n",
      "Accuracy: 0.97\n",
      "F1-score (macro): 0.9699729756781104\n",
      "AUC: 1.0\n",
      "Classification Report:\n",
      "               precision    recall  f1-score   support\n",
      "\n",
      "           0       1.00      0.94      0.97        50\n",
      "           1       0.94      1.00      0.97        50\n",
      "\n",
      "    accuracy                           0.97       100\n",
      "   macro avg       0.97      0.97      0.97       100\n",
      "weighted avg       0.97      0.97      0.97       100\n",
      "\n"
     ]
    },
    {
     "data": {
      "image/png": "[encoded data removed]",
      "text/plain": [
       "<Figure size 432x288 with 2 Axes>"
      ]
     },
     "metadata": {
      "needs_background": "light"
     },
     "output_type": "display_data"
    },
    {
     "name": "stderr",
     "output_type": "stream",
     "text": [
      "REAL (TESTE): 100%|██████████| 50/50 [00:06<00:00,  8.10it/s]\n",
      "REAL (TREINO): 100%|██████████| 200/200 [00:25<00:00,  7.94it/s]\n",
      "FAKE (TESTE): 100%|██████████| 50/50 [00:06<00:00,  8.13it/s]\n",
      "FAKE (TREINO): 100%|██████████| 200/200 [00:25<00:00,  7.96it/s]\n"
     ]
    },
    {
     "name": "stdout",
     "output_type": "stream",
     "text": [
      "\n",
      "=== Avaliação para modelo com FAKE = Face2Face ===\n",
      "Accuracy: 0.55\n",
      "F1-score (macro): 0.5477841422972565\n",
      "AUC: 0.5132\n",
      "Classification Report:\n",
      "               precision    recall  f1-score   support\n",
      "\n",
      "           0       0.56      0.48      0.52        50\n",
      "           1       0.54      0.62      0.58        50\n",
      "\n",
      "    accuracy                           0.55       100\n",
      "   macro avg       0.55      0.55      0.55       100\n",
      "weighted avg       0.55      0.55      0.55       100\n",
      "\n"
     ]
    },
    {
     "data": {
      "image/png": "[encoded data removed]",
      "text/plain": [
       "<Figure size 432x288 with 2 Axes>"
      ]
     },
     "metadata": {
      "needs_background": "light"
     },
     "output_type": "display_data"
    },
    {
     "name": "stderr",
     "output_type": "stream",
     "text": [
      "REAL (TESTE): 100%|██████████| 50/50 [00:06<00:00,  8.04it/s]\n",
      "REAL (TREINO): 100%|██████████| 200/200 [00:25<00:00,  7.96it/s]\n",
      "FAKE (TESTE): 100%|██████████| 50/50 [00:06<00:00,  7.95it/s]\n",
      "FAKE (TREINO): 100%|██████████| 200/200 [00:25<00:00,  7.82it/s]\n"
     ]
    },
    {
     "name": "stdout",
     "output_type": "stream",
     "text": [
      "\n",
      "=== Avaliação para modelo com FAKE = FaceShifter ===\n",
      "Accuracy: 0.47\n",
      "F1-score (macro): 0.4542271650705386\n",
      "AUC: 0.512\n",
      "Classification Report:\n",
      "               precision    recall  f1-score   support\n",
      "\n",
      "           0       0.45      0.30      0.36        50\n",
      "           1       0.48      0.64      0.55        50\n",
      "\n",
      "    accuracy                           0.47       100\n",
      "   macro avg       0.47      0.47      0.45       100\n",
      "weighted avg       0.47      0.47      0.45       100\n",
      "\n"
     ]
    },
    {
     "data": {
      "image/png": "[encoded data removed]",
      "text/plain": [
       "<Figure size 432x288 with 2 Axes>"
      ]
     },
     "metadata": {
      "needs_background": "light"
     },
     "output_type": "display_data"
    },
    {
     "name": "stderr",
     "output_type": "stream",
     "text": [
      "REAL (TESTE): 100%|██████████| 50/50 [00:06<00:00,  8.10it/s]\n",
      "REAL (TREINO): 100%|██████████| 200/200 [00:25<00:00,  7.95it/s]\n",
      "FAKE (TESTE): 100%|██████████| 50/50 [00:06<00:00,  7.68it/s]\n",
      "FAKE (TREINO): 100%|██████████| 200/200 [00:25<00:00,  7.71it/s]\n"
     ]
    },
    {
     "name": "stdout",
     "output_type": "stream",
     "text": [
      "\n",
      "=== Avaliação para modelo com FAKE = FaceSwap ===\n",
      "Accuracy: 0.66\n",
      "F1-score (macro): 0.6598639455782312\n",
      "AUC: 0.7036\n",
      "Classification Report:\n",
      "               precision    recall  f1-score   support\n",
      "\n",
      "           0       0.65      0.68      0.67        50\n",
      "           1       0.67      0.64      0.65        50\n",
      "\n",
      "    accuracy                           0.66       100\n",
      "   macro avg       0.66      0.66      0.66       100\n",
      "weighted avg       0.66      0.66      0.66       100\n",
      "\n"
     ]
    },
    {
     "data": {
      "image/png": "[encoded data removed]",
      "text/plain": [
       "<Figure size 432x288 with 2 Axes>"
      ]
     },
     "metadata": {
      "needs_background": "light"
     },
     "output_type": "display_data"
    },
    {
     "name": "stderr",
     "output_type": "stream",
     "text": [
      "REAL (TESTE): 100%|██████████| 50/50 [00:06<00:00,  7.88it/s]\n",
      "REAL (TREINO): 100%|██████████| 200/200 [00:25<00:00,  7.94it/s]\n",
      "FAKE (TESTE): 100%|██████████| 50/50 [00:06<00:00,  7.95it/s]\n",
      "FAKE (TREINO): 100%|██████████| 200/200 [00:25<00:00,  7.97it/s]\n"
     ]
    },
    {
     "name": "stdout",
     "output_type": "stream",
     "text": [
      "\n",
      "=== Avaliação para modelo com FAKE = NeuralTextures ===\n",
      "Accuracy: 0.48\n",
      "F1-score (macro): 0.4663382594417077\n",
      "AUC: 0.5312\n",
      "Classification Report:\n",
      "               precision    recall  f1-score   support\n",
      "\n",
      "           0       0.47      0.32      0.38        50\n",
      "           1       0.48      0.64      0.55        50\n",
      "\n",
      "    accuracy                           0.48       100\n",
      "   macro avg       0.48      0.48      0.47       100\n",
      "weighted avg       0.48      0.48      0.47       100\n",
      "\n"
     ]
    },
    {
     "data": {
      "image/png": "[encoded data removed]",
      "text/plain": [
       "<Figure size 432x288 with 2 Axes>"
      ]
     },
     "metadata": {
      "needs_background": "light"
     },
     "output_type": "display_data"
    }
   ],
   "source": [
    "# Execução\n",
    "train_all_models()"
   ]
  },
  {
   "cell_type": "code",
   "execution_count": null,
   "metadata": {},
   "outputs": [],
   "source": []
  }
 ],
 "metadata": {
  "kaggle": {
   "accelerator": "none",
   "dataSources": [
    {
     "datasetId": 7301567,
     "sourceId": 11636998,
     "sourceType": "datasetVersion"
    }
   ],
   "dockerImageVersionId": 31012,
   "isGpuEnabled": false,
   "isInternetEnabled": true,
   "language": "python",
   "sourceType": "notebook"
  },
  "kernelspec": {
   "display_name": "Python 3",
   "language": "python",
   "name": "python3"
  },
  "language_info": {
   "codemirror_mode": {
    "name": "ipython",
    "version": 3
   },
   "file_extension": ".py",
   "mimetype": "text/x-python",
   "name": "python",
   "nbconvert_exporter": "python",
   "pygments_lexer": "ipython3",
   "version": "3.6.9"
  }
 },
 "nbformat": 4,
 "nbformat_minor": 4
}
