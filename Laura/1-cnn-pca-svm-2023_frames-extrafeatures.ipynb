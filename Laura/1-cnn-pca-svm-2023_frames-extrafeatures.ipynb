{
 "cells": [
  {
   "cell_type": "code",
   "execution_count": 15,
   "metadata": {
    "_cell_guid": "b1076dfc-b9ad-4769-8c92-a6c4dae69d19",
    "_uuid": "8f2839f25d086af736a60e9eeb907d3b93b6e0e5",
    "execution": {
     "iopub.execute_input": "2025-05-01T12:42:59.786105Z",
     "iopub.status.busy": "2025-05-01T12:42:59.785675Z",
     "iopub.status.idle": "2025-05-01T12:43:21.239295Z",
     "shell.execute_reply": "2025-05-01T12:43:21.238070Z",
     "shell.execute_reply.started": "2025-05-01T12:42:59.786042Z"
    },
    "jupyter": {
     "outputs_hidden": true
    }
   },
   "outputs": [],
   "source": [
    "# This Python 3 environment comes with many helpful analytics libraries installed\n",
    "# It is defined by the kaggle/python Docker image: https://github.com/kaggle/docker-python\n",
    "# For example, here's several helpful packages to load\n",
    "\n",
    "import numpy as np # linear algebra\n",
    "import pandas as pd # data processing, CSV file I/O (e.g. pd.read_csv)\n",
    "import cv2\n",
    "from tqdm import tqdm\n",
    "import matplotlib.pyplot as plt\n",
    "import glob\n",
    "import cupy as cp\n",
    "\n",
    "from sklearn.decomposition import PCA\n",
    "from sklearn.svm import SVC\n",
    "from sklearn.model_selection import train_test_split\n",
    "from sklearn.metrics import classification_report, accuracy_score,roc_auc_score, f1_score,confusion_matrix, ConfusionMatrixDisplay\n",
    "\n",
    "from tensorflow.keras.applications import VGG16, ResNet50\n",
    "from tensorflow.keras.applications.efficientnet import EfficientNetB0\n",
    "from tensorflow.keras.applications.vgg16 import preprocess_input as preprocess_vgg\n",
    "from tensorflow.keras.applications.resnet import preprocess_input as preprocess_resnet\n",
    "from tensorflow.keras.applications.efficientnet import preprocess_input as preprocess_eff\n",
    "from tensorflow.keras.models import Model\n",
    "\n",
    "import tensorflow as tf\n",
    "from tensorflow.keras.applications import VGG16, ResNet50, EfficientNetB0\n",
    "from tensorflow.keras.applications.vgg16 import preprocess_input as preprocess_vgg\n",
    "from tensorflow.keras.applications.resnet50 import preprocess_input as preprocess_resnet\n",
    "from tensorflow.keras.applications.efficientnet import preprocess_input as preprocess_eff\n",
    "\n",
    "import joblib\n",
    "\n",
    "# Input data files are available in the read-only \"../input/\" directory\n",
    "# For example, running this (by clicking run or pressing Shift+Enter) will list all files under the input directory\n",
    "\n",
    "import os\n",
    "for dirname, _, filenames in os.walk('/datasets/face_extraction'):\n",
    "    for filename in filenames:\n",
    "        print(os.path.join(dirname, filename))\n",
    "\n",
    "# You can write up to 20GB to the current directory (/kaggle/working/) that gets preserved as output when you create a version using \"Save & Run All\" \n",
    "# You can also write temporary files to /kaggle/temp/, but they won't be saved outside of the current session"
   ]
  },
  {
   "cell_type": "code",
   "execution_count": 2,
   "metadata": {},
   "outputs": [
    {
     "name": "stdout",
     "output_type": "stream",
     "text": [
      "Num GPUs Available:  1\n",
      "ID: 0, Name: NVIDIA Tesla P100-SXM2-16GB\n",
      "  Total Memory: 16280.0 MB\n",
      "  Used Memory: 2.0 MB\n",
      "  Free Memory: 16278.0 MB\n",
      "  GPU Load: 0.0%\n"
     ]
    }
   ],
   "source": [
    "print(\"Num GPUs Available: \", len(tf.config.list_physical_devices('GPU')))\n",
    "\n",
    "import GPUtil\n",
    "\n",
    "gpus = GPUtil.getGPUs()\n",
    "for gpu in gpus:\n",
    "    print(f\"ID: {gpu.id}, Name: {gpu.name}\")\n",
    "    print(f\"  Total Memory: {gpu.memoryTotal} MB\")\n",
    "    print(f\"  Used Memory: {gpu.memoryUsed} MB\")\n",
    "    print(f\"  Free Memory: {gpu.memoryFree} MB\")\n",
    "    print(f\"  GPU Load: {gpu.load * 100:.1f}%\")\n",
    "    "
   ]
  },
  {
   "cell_type": "code",
   "execution_count": null,
   "metadata": {
    "execution": {
     "iopub.execute_input": "2025-05-01T12:43:21.241438Z",
     "iopub.status.busy": "2025-05-01T12:43:21.240571Z",
     "iopub.status.idle": "2025-05-01T12:43:26.663758Z",
     "shell.execute_reply": "2025-05-01T12:43:26.662647Z",
     "shell.execute_reply.started": "2025-05-01T12:43:21.241405Z"
    }
   },
   "outputs": [],
   "source": [
    "# models\n",
    "vgg_model = VGG16(weights='imagenet', include_top=False, pooling='avg')\n",
    "resnet_model = ResNet50(weights='imagenet', include_top=False, pooling='avg')\n",
    "eff_model = EfficientNetB0(weights='imagenet', include_top=False, pooling='avg')"
   ]
  },
  {
   "cell_type": "code",
   "execution_count": 5,
   "metadata": {},
   "outputs": [],
   "source": [
    "def extract_features_from_image(image_path):\n",
    "    if not os.path.isfile(image_path):\n",
    "        print(f\"[ERRO] O arquivo {image_path} não é válido ou não é uma imagem.\")\n",
    "        return None\n",
    "\n",
    "    img = cv2.imread(image_path)\n",
    "    if img is None:\n",
    "        print(f\"[ERRO] Não foi possível carregar a imagem {image_path}.\")\n",
    "        return None\n",
    "\n",
    "    try:\n",
    "        # Redimensiona a imagem\n",
    "        img_resized = cv2.resize(img, (224, 224))\n",
    "        img_rgb = cv2.cvtColor(img_resized, cv2.COLOR_BGR2RGB)\n",
    "\n",
    "        # --- Features de CNN ---\n",
    "        img_batch_vgg = preprocess_vgg(np.expand_dims(img_rgb.astype('float32'), axis=0))\n",
    "        img_batch_resnet = preprocess_resnet(np.expand_dims(img_rgb.astype('float32'), axis=0))\n",
    "        img_batch_eff = preprocess_eff(np.expand_dims(img_rgb.astype('float32'), axis=0))\n",
    "\n",
    "        vgg_feat = vgg_model.predict(img_batch_vgg, verbose=0).flatten()\n",
    "        res_feat = resnet_model.predict(img_batch_resnet, verbose=0).flatten()\n",
    "        eff_feat = eff_model.predict(img_batch_eff, verbose=0).flatten()\n",
    "\n",
    "        # --- Média Azimutal do Espectro de Frequência ---\n",
    "        azimuthal_feat = compute_azimuthal_average(img_resized)\n",
    "        azimuthal_feat = azimuthal_feat[:100]  # padroniza tamanho\n",
    "\n",
    "        # --- LBP com CuPy ---\n",
    "        lbp_feat = local_binary_pattern(img_resized, P=8, R=1)\n",
    "\n",
    "        # --- Combina todas as features ---\n",
    "        combined = np.concatenate([vgg_feat, res_feat, eff_feat, azimuthal_feat, lbp_feat])\n",
    "        return combined\n",
    "\n",
    "    except Exception as e:\n",
    "        print(f\"[ERRO] Falha ao extrair características de {image_path}: {e}\")\n",
    "        return None"
   ]
  },
  {
   "cell_type": "code",
   "execution_count": 6,
   "metadata": {},
   "outputs": [],
   "source": [
    "def compute_azimuthal_average(image):\n",
    "    if len(image.shape) == 3:\n",
    "        image = cv2.cvtColor(image, cv2.COLOR_BGR2GRAY)\n",
    "\n",
    "    h, w = image.shape\n",
    "    f = np.fft.fft2(image)\n",
    "    fshift = np.fft.fftshift(f)\n",
    "    magnitude_spectrum = 20 * np.log(np.abs(fshift) + 1e-10)\n",
    "\n",
    "    center = (h // 2, w // 2)\n",
    "    y, x = np.indices((h, w))\n",
    "    r = np.sqrt((x - center[1])**2 + (y - center[0])**2).astype(int)\n",
    "\n",
    "    tbin = np.bincount(r.ravel(), magnitude_spectrum.ravel())\n",
    "    nr = np.bincount(r.ravel())\n",
    "    radial_profile = tbin / (nr + 1e-10)\n",
    "    return radial_profile"
   ]
  },
  {
   "cell_type": "code",
   "execution_count": 7,
   "metadata": {},
   "outputs": [],
   "source": [
    "def local_binary_pattern(image, P=8, R=1):\n",
    "    if len(image.shape) == 3:\n",
    "        gray = cv2.cvtColor(image, cv2.COLOR_BGR2GRAY)\n",
    "    else:\n",
    "        gray = image\n",
    "\n",
    "    gray_gpu = cp.asarray(gray, dtype=cp.uint8)\n",
    "    lbp_gpu = cp.zeros_like(gray_gpu)\n",
    "\n",
    "    rows, cols = gray_gpu.shape\n",
    "    angles = cp.linspace(0, 2 * cp.pi, P, endpoint=False)\n",
    "    dx = R * cp.cos(angles)\n",
    "    dy = -R * cp.sin(angles)\n",
    "\n",
    "    for idx in range(P):\n",
    "        fx = dx[idx]\n",
    "        fy = dy[idx]\n",
    "\n",
    "        x0 = cp.floor(fx).astype(cp.int32)\n",
    "        x1 = x0 + 1\n",
    "        y0 = cp.floor(fy).astype(cp.int32)\n",
    "        y1 = y0 + 1\n",
    "\n",
    "        x = cp.arange(R, rows - R)\n",
    "        y = cp.arange(R, cols - R)\n",
    "        X, Y = cp.meshgrid(x, y, indexing='ij')\n",
    "\n",
    "        i0 = cp.clip(X + x0, 0, rows - 1)\n",
    "        i1 = cp.clip(X + x1, 0, rows - 1)\n",
    "        j0 = cp.clip(Y + y0, 0, cols - 1)\n",
    "        j1 = cp.clip(Y + y1, 0, cols - 1)\n",
    "\n",
    "        Ia = gray_gpu[i0, j0]\n",
    "        Ib = gray_gpu[i0, j1]\n",
    "        Ic = gray_gpu[i1, j0]\n",
    "        Id = gray_gpu[i1, j1]\n",
    "\n",
    "        wa = (1 - (fx - x0)) * (1 - (fy - y0))\n",
    "        wb = (1 - (fx - x0)) * (fy - y0)\n",
    "        wc = (fx - x0) * (1 - (fy - y0))\n",
    "        wd = (fx - x0) * (fy - y0)\n",
    "\n",
    "        interp = wa * Ia + wb * Ib + wc * Ic + wd * Id\n",
    "        center = gray_gpu[X, Y]\n",
    "        binary = (interp >= center).astype(cp.uint8)\n",
    "\n",
    "        lbp_gpu[X, Y] += binary * (1 << idx)\n",
    "\n",
    "    lbp_cpu = cp.asnumpy(lbp_gpu)\n",
    "    hist, _ = np.histogram(lbp_cpu, bins=2**P, range=(0, 2**P))\n",
    "    return hist / (hist.sum() + 1e-10)"
   ]
  },
  {
   "cell_type": "code",
   "execution_count": 11,
   "metadata": {},
   "outputs": [],
   "source": [
    "def generate_model(real_path, fake_path, fake_name):\n",
    "    X_train, y_train = [], []\n",
    "    X_test, y_test = [], []\n",
    "\n",
    "    for label, path in [(\"REAL\", real_path), (\"FAKE\", fake_path)]:\n",
    "        image_files = os.listdir(path)\n",
    "        test_files = image_files[:50]\n",
    "        train_files = image_files[50:]\n",
    "\n",
    "        for image_name in tqdm(test_files, desc=f\"{label} (TESTE)\"):\n",
    "            image_path = os.path.join(path, image_name)\n",
    "            feat = extract_features_from_image(image_path)\n",
    "            if feat is not None:\n",
    "                X_test.append(feat)\n",
    "                y_test.append(0 if label == \"REAL\" else 1)\n",
    "\n",
    "        for image_name in tqdm(train_files, desc=f\"{label} (TREINO)\"):\n",
    "            image_path = os.path.join(path, image_name)\n",
    "            feat = extract_features_from_image(image_path)\n",
    "            if feat is not None:\n",
    "                X_train.append(feat)\n",
    "                y_train.append(0 if label == \"REAL\" else 1)\n",
    "\n",
    "    if len(X_train) == 0 or len(X_test) == 0:\n",
    "        print(\"Erro: Não foram extraídas características suficientes.\")\n",
    "        return\n",
    "\n",
    "    X_train = np.array(X_train)\n",
    "    y_train = np.array(y_train)\n",
    "    X_test = np.array(X_test)\n",
    "    y_test = np.array(y_test)\n",
    "\n",
    "    # PCA com 95% de variância\n",
    "    pca = PCA(n_components=0.95)\n",
    "    X_train_pca = pca.fit_transform(X_train)\n",
    "    X_test_pca = pca.transform(X_test)\n",
    "\n",
    "    print(f\"[INFO] PCA - Componentes mantidos: {pca.n_components_} para {fake_name}\")\n",
    "\n",
    "    # Classificador\n",
    "    svm = SVC(kernel='linear', probability=True)\n",
    "    svm.fit(X_train_pca, y_train)\n",
    "    y_pred = svm.predict(X_test_pca)\n",
    "\n",
    "    # Métricas\n",
    "    acc = accuracy_score(y_test, y_pred)\n",
    "    f1 = f1_score(y_test, y_pred, average='macro')\n",
    "\n",
    "    try:\n",
    "        y_scores = svm.decision_function(X_test_pca)\n",
    "        auc = roc_auc_score(y_test, y_scores)\n",
    "    except:\n",
    "        auc = None\n",
    "\n",
    "    report = classification_report(y_test, y_pred)\n",
    "    print(f\"\\n=== Avaliação para FAKE = {fake_name} ===\")\n",
    "    print(\"Accuracy:\", acc)\n",
    "    print(\"F1-score (macro):\", f1)\n",
    "    if auc:\n",
    "        print(\"AUC:\", auc)\n",
    "    print(\"Classification Report:\\n\", report)\n",
    "\n",
    "    # Matriz de Confusão\n",
    "    cm = confusion_matrix(y_test, y_pred)\n",
    "    disp = ConfusionMatrixDisplay(confusion_matrix=cm, display_labels=[\"REAL\", \"FAKE\"])\n",
    "    disp.plot()\n",
    "    plt.title(f\"Matriz de Confusão - {fake_name}\")\n",
    "    plt.show()\n",
    "\n",
    "    # Criar diretórios de saída\n",
    "    os.makedirs(\"modelos\", exist_ok=True)\n",
    "    os.makedirs(\"logs\", exist_ok=True)\n",
    "\n",
    "    # Salvar modelos\n",
    "    joblib.dump(svm, f\"modelos/svm_{fake_name}.joblib\")\n",
    "    joblib.dump(pca, f\"modelos/pca_{fake_name}.joblib\")\n",
    "\n",
    "    # Salvar log de avaliação\n",
    "    log_path = f\"logs/avaliacao_{fake_name}.txt\"\n",
    "    with open(log_path, \"w\") as f:\n",
    "        f.write(f\"FAKE technique: {fake_name}\\n\")\n",
    "        f.write(f\"PCA components retained: {pca.n_components_}\\n\")\n",
    "        f.write(f\"Accuracy: {acc:.4f}\\n\")\n",
    "        f.write(f\"F1-score (macro): {f1:.4f}\\n\")\n",
    "        if auc is not None:\n",
    "            f.write(f\"AUC: {auc:.4f}\\n\")\n",
    "        else:\n",
    "            f.write(\"AUC: N/A (decision_function not available)\\n\")\n",
    "        f.write(\"\\nClassification Report:\\n\")\n",
    "        f.write(report)\n",
    "    print(f\"[INFO] Resultados salvos em {log_path}\")"
   ]
  },
  {
   "cell_type": "code",
   "execution_count": 8,
   "metadata": {
    "execution": {
     "iopub.execute_input": "2025-05-01T12:43:26.667160Z",
     "iopub.status.busy": "2025-05-01T12:43:26.666822Z",
     "iopub.status.idle": "2025-05-01T12:43:26.673320Z",
     "shell.execute_reply": "2025-05-01T12:43:26.672207Z",
     "shell.execute_reply.started": "2025-05-01T12:43:26.667137Z"
    }
   },
   "outputs": [],
   "source": [
    "def plot_confusion_matrix(y_test, y_pred):\n",
    "    cm = confusion_matrix(y_test, y_pred)\n",
    "    disp = ConfusionMatrixDisplay(confusion_matrix=cm, display_labels=[\"REAL\", \"FAKE\"])\n",
    "    plt.figure(figsize=(5, 5))\n",
    "    disp.plot(cmap=plt.cm.Blues)\n",
    "    plt.title(\"Confusion Matrix\")\n",
    "    plt.show()"
   ]
  },
  {
   "cell_type": "code",
   "execution_count": 9,
   "metadata": {},
   "outputs": [],
   "source": [
    "def train_all_models():\n",
    "    real_path = \"datasets/face_extraction/REAL/\"\n",
    "    fake_paths = {\n",
    "        \"Deepfake\": \"datasets/face_extraction/Deepfake/\",\n",
    "        \"DeepfakeDetection\": \"datasets/face_extraction/DeepfakeDetection/\",\n",
    "        \"Face2Face\": \"datasets/face_extraction/Face2Face/\",\n",
    "        \"FaceShifter\": \"datasets/face_extraction/FaceShifter/\",\n",
    "        \"FaceSwap\": \"datasets/face_extraction/FaceSwap/\",\n",
    "        \"NeuralTextures\": \"datasets/face_extraction/NeuralTextures/\"\n",
    "    }\n",
    "\n",
    "    for fake_name, fake_path in fake_paths.items():\n",
    "        generate_model(real_path, fake_path, fake_name)"
   ]
  },
  {
   "cell_type": "code",
   "execution_count": 16,
   "metadata": {},
   "outputs": [
    {
     "name": "stderr",
     "output_type": "stream",
     "text": [
      "REAL (TESTE): 100%|██████████| 50/50 [00:12<00:00,  3.90it/s]\n",
      "REAL (TREINO): 100%|██████████| 200/200 [00:28<00:00,  7.04it/s]\n",
      "FAKE (TESTE): 100%|██████████| 50/50 [00:06<00:00,  7.21it/s]\n",
      "FAKE (TREINO): 100%|██████████| 200/200 [00:28<00:00,  7.10it/s]\n"
     ]
    },
    {
     "name": "stdout",
     "output_type": "stream",
     "text": [
      "[INFO] PCA - Componentes mantidos: 36 para Deepfake\n",
      "\n",
      "=== Avaliação para FAKE = Deepfake ===\n",
      "Accuracy: 0.7\n",
      "F1-score (macro): 0.6940024479804162\n",
      "AUC: 0.756\n",
      "Classification Report:\n",
      "               precision    recall  f1-score   support\n",
      "\n",
      "           0       0.78      0.56      0.65        50\n",
      "           1       0.66      0.84      0.74        50\n",
      "\n",
      "    accuracy                           0.70       100\n",
      "   macro avg       0.72      0.70      0.69       100\n",
      "weighted avg       0.72      0.70      0.69       100\n",
      "\n"
     ]
    },
    {
     "data": {
      "image/png": "[encoded data removed]",
      "text/plain": [
       "<Figure size 432x288 with 2 Axes>"
      ]
     },
     "metadata": {
      "needs_background": "light"
     },
     "output_type": "display_data"
    },
    {
     "name": "stdout",
     "output_type": "stream",
     "text": [
      "[INFO] Resultados salvos em logs/avaliacao_Deepfake.txt\n"
     ]
    },
    {
     "name": "stderr",
     "output_type": "stream",
     "text": [
      "REAL (TESTE): 100%|██████████| 50/50 [00:06<00:00,  7.18it/s]\n",
      "REAL (TREINO): 100%|██████████| 200/200 [00:28<00:00,  7.08it/s]\n",
      "FAKE (TESTE): 100%|██████████| 50/50 [00:07<00:00,  7.12it/s]\n",
      "FAKE (TREINO): 100%|██████████| 200/200 [00:28<00:00,  7.05it/s]\n"
     ]
    },
    {
     "name": "stdout",
     "output_type": "stream",
     "text": [
      "[INFO] PCA - Componentes mantidos: 38 para DeepfakeDetection\n",
      "\n",
      "=== Avaliação para FAKE = DeepfakeDetection ===\n",
      "Accuracy: 0.99\n",
      "F1-score (macro): 0.98999899989999\n",
      "AUC: 0.9995999999999999\n",
      "Classification Report:\n",
      "               precision    recall  f1-score   support\n",
      "\n",
      "           0       0.98      1.00      0.99        50\n",
      "           1       1.00      0.98      0.99        50\n",
      "\n",
      "    accuracy                           0.99       100\n",
      "   macro avg       0.99      0.99      0.99       100\n",
      "weighted avg       0.99      0.99      0.99       100\n",
      "\n"
     ]
    },
    {
     "data": {
      "image/png": "[encoded data removed]",
      "text/plain": [
       "<Figure size 432x288 with 2 Axes>"
      ]
     },
     "metadata": {
      "needs_background": "light"
     },
     "output_type": "display_data"
    },
    {
     "name": "stdout",
     "output_type": "stream",
     "text": [
      "[INFO] Resultados salvos em logs/avaliacao_DeepfakeDetection.txt\n"
     ]
    },
    {
     "name": "stderr",
     "output_type": "stream",
     "text": [
      "REAL (TESTE): 100%|██████████| 50/50 [00:07<00:00,  7.10it/s]\n",
      "REAL (TREINO): 100%|██████████| 200/200 [00:28<00:00,  6.97it/s]\n",
      "FAKE (TESTE): 100%|██████████| 50/50 [00:07<00:00,  6.89it/s]\n",
      "FAKE (TREINO): 100%|██████████| 200/200 [00:28<00:00,  6.97it/s]\n"
     ]
    },
    {
     "name": "stdout",
     "output_type": "stream",
     "text": [
      "[INFO] PCA - Componentes mantidos: 26 para Face2Face\n",
      "\n",
      "=== Avaliação para FAKE = Face2Face ===\n",
      "Accuracy: 0.52\n",
      "F1-score (macro): 0.5169082125603865\n",
      "AUC: 0.5404\n",
      "Classification Report:\n",
      "               precision    recall  f1-score   support\n",
      "\n",
      "           0       0.52      0.44      0.48        50\n",
      "           1       0.52      0.60      0.56        50\n",
      "\n",
      "    accuracy                           0.52       100\n",
      "   macro avg       0.52      0.52      0.52       100\n",
      "weighted avg       0.52      0.52      0.52       100\n",
      "\n"
     ]
    },
    {
     "data": {
      "image/png": "[encoded data removed]",
      "text/plain": [
       "<Figure size 432x288 with 2 Axes>"
      ]
     },
     "metadata": {
      "needs_background": "light"
     },
     "output_type": "display_data"
    },
    {
     "name": "stdout",
     "output_type": "stream",
     "text": [
      "[INFO] Resultados salvos em logs/avaliacao_Face2Face.txt\n"
     ]
    },
    {
     "name": "stderr",
     "output_type": "stream",
     "text": [
      "REAL (TESTE): 100%|██████████| 50/50 [00:06<00:00,  7.14it/s]\n",
      "REAL (TREINO): 100%|██████████| 200/200 [00:28<00:00,  6.93it/s]\n",
      "FAKE (TESTE): 100%|██████████| 50/50 [00:07<00:00,  7.02it/s]\n",
      "FAKE (TREINO): 100%|██████████| 200/200 [00:28<00:00,  7.00it/s]\n"
     ]
    },
    {
     "name": "stdout",
     "output_type": "stream",
     "text": [
      "[INFO] PCA - Componentes mantidos: 28 para FaceShifter\n",
      "\n",
      "=== Avaliação para FAKE = FaceShifter ===\n",
      "Accuracy: 0.62\n",
      "F1-score (macro): 0.6175523349436394\n",
      "AUC: 0.7048\n",
      "Classification Report:\n",
      "               precision    recall  f1-score   support\n",
      "\n",
      "           0       0.64      0.54      0.59        50\n",
      "           1       0.60      0.70      0.65        50\n",
      "\n",
      "    accuracy                           0.62       100\n",
      "   macro avg       0.62      0.62      0.62       100\n",
      "weighted avg       0.62      0.62      0.62       100\n",
      "\n"
     ]
    },
    {
     "data": {
      "image/png": "[encoded data removed]",
      "text/plain": [
       "<Figure size 432x288 with 2 Axes>"
      ]
     },
     "metadata": {
      "needs_background": "light"
     },
     "output_type": "display_data"
    },
    {
     "name": "stdout",
     "output_type": "stream",
     "text": [
      "[INFO] Resultados salvos em logs/avaliacao_FaceShifter.txt\n"
     ]
    },
    {
     "name": "stderr",
     "output_type": "stream",
     "text": [
      "REAL (TESTE): 100%|██████████| 50/50 [00:07<00:00,  7.10it/s]\n",
      "REAL (TREINO): 100%|██████████| 200/200 [00:28<00:00,  7.09it/s]\n",
      "FAKE (TESTE): 100%|██████████| 50/50 [00:06<00:00,  7.19it/s]\n",
      "FAKE (TREINO): 100%|██████████| 200/200 [00:28<00:00,  6.92it/s]\n"
     ]
    },
    {
     "name": "stdout",
     "output_type": "stream",
     "text": [
      "[INFO] PCA - Componentes mantidos: 33 para FaceSwap\n",
      "\n",
      "=== Avaliação para FAKE = FaceSwap ===\n",
      "Accuracy: 0.66\n",
      "F1-score (macro): 0.66\n",
      "AUC: 0.7172000000000001\n",
      "Classification Report:\n",
      "               precision    recall  f1-score   support\n",
      "\n",
      "           0       0.66      0.66      0.66        50\n",
      "           1       0.66      0.66      0.66        50\n",
      "\n",
      "    accuracy                           0.66       100\n",
      "   macro avg       0.66      0.66      0.66       100\n",
      "weighted avg       0.66      0.66      0.66       100\n",
      "\n"
     ]
    },
    {
     "data": {
      "image/png": "[encoded data removed]",
      "text/plain": [
       "<Figure size 432x288 with 2 Axes>"
      ]
     },
     "metadata": {
      "needs_background": "light"
     },
     "output_type": "display_data"
    },
    {
     "name": "stdout",
     "output_type": "stream",
     "text": [
      "[INFO] Resultados salvos em logs/avaliacao_FaceSwap.txt\n"
     ]
    },
    {
     "name": "stderr",
     "output_type": "stream",
     "text": [
      "REAL (TESTE): 100%|██████████| 50/50 [00:07<00:00,  7.12it/s]\n",
      "REAL (TREINO): 100%|██████████| 200/200 [00:28<00:00,  6.90it/s]\n",
      "FAKE (TESTE): 100%|██████████| 50/50 [00:07<00:00,  6.98it/s]\n",
      "FAKE (TREINO): 100%|██████████| 200/200 [00:29<00:00,  6.88it/s]\n"
     ]
    },
    {
     "name": "stdout",
     "output_type": "stream",
     "text": [
      "[INFO] PCA - Componentes mantidos: 27 para NeuralTextures\n",
      "\n",
      "=== Avaliação para FAKE = NeuralTextures ===\n",
      "Accuracy: 0.55\n",
      "F1-score (macro): 0.5331465919701215\n",
      "AUC: 0.5720000000000001\n",
      "Classification Report:\n",
      "               precision    recall  f1-score   support\n",
      "\n",
      "           0       0.58      0.36      0.44        50\n",
      "           1       0.54      0.74      0.62        50\n",
      "\n",
      "    accuracy                           0.55       100\n",
      "   macro avg       0.56      0.55      0.53       100\n",
      "weighted avg       0.56      0.55      0.53       100\n",
      "\n"
     ]
    },
    {
     "data": {
      "image/png": "[encoded data removed]",
      "text/plain": [
       "<Figure size 432x288 with 2 Axes>"
      ]
     },
     "metadata": {
      "needs_background": "light"
     },
     "output_type": "display_data"
    },
    {
     "name": "stdout",
     "output_type": "stream",
     "text": [
      "[INFO] Resultados salvos em logs/avaliacao_NeuralTextures.txt\n"
     ]
    }
   ],
   "source": [
    "# Execução\n",
    "train_all_models()"
   ]
  },
  {
   "cell_type": "code",
   "execution_count": null,
   "metadata": {},
   "outputs": [],
   "source": []
  }
 ],
 "metadata": {
  "kaggle": {
   "accelerator": "none",
   "dataSources": [
    {
     "datasetId": 7301567,
     "sourceId": 11636998,
     "sourceType": "datasetVersion"
    }
   ],
   "dockerImageVersionId": 31012,
   "isGpuEnabled": false,
   "isInternetEnabled": true,
   "language": "python",
   "sourceType": "notebook"
  },
  "kernelspec": {
   "display_name": "Python 3",
   "language": "python",
   "name": "python3"
  },
  "language_info": {
   "codemirror_mode": {
    "name": "ipython",
    "version": 3
   },
   "file_extension": ".py",
   "mimetype": "text/x-python",
   "name": "python",
   "nbconvert_exporter": "python",
   "pygments_lexer": "ipython3",
   "version": "3.6.9"
  }
 },
 "nbformat": 4,
 "nbformat_minor": 4
}
