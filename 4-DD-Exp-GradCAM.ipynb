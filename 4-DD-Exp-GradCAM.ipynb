{
 "cells": [
  {
   "cell_type": "code",
   "execution_count": null,
   "metadata": {},
   "outputs": [],
   "source": [
    "import torch\n",
    "import timm\n",
    "import numpy as np\n",
    "import cv2\n",
    "import matplotlib.pyplot as plt\n",
    "from torchvision import transforms\n",
    "from torchcam.methods import SmoothGradCAMpp\n",
    "from PIL import Image\n",
    "import os"
   ]
  },
  {
   "cell_type": "code",
   "execution_count": null,
   "metadata": {},
   "outputs": [],
   "source": [
    "# Configuração do dispositivo\n",
    "device = torch.device(\"cuda\" if torch.cuda.is_available() else \"cpu\")\n",
    "\n",
    "# Definir caminho do modelo treinado\n",
    "MODEL_PATH = \"model/xception_deepfake.pth\"\n",
    "# Diretórios com as imagens\n",
    "TEST_DIR = \"teste/CELEB-DF/faces/Deepfake/id0_id26_0005\""
   ]
  },
  {
   "cell_type": "code",
   "execution_count": null,
   "metadata": {},
   "outputs": [],
   "source": [
    "# Carregar o modelo treinado\n",
    "model = timm.create_model(\"xception41.tf_in1k\", pretrained=False, num_classes=2)\n",
    "model.load_state_dict(torch.load(MODEL_PATH, map_location=device))\n",
    "model.to(device)\n",
    "model.eval()"
   ]
  },
  {
   "cell_type": "code",
   "execution_count": null,
   "metadata": {},
   "outputs": [],
   "source": [
    "# Transformações para pré-processamento da imagem\n",
    "preprocess = transforms.Compose([\n",
    "    transforms.Resize((299, 299)),\n",
    "    transforms.ToTensor(),\n",
    "    transforms.Normalize(mean=[0.5, 0.5, 0.5], std=[0.5, 0.5, 0.5])\n",
    "])"
   ]
  },
  {
   "cell_type": "code",
   "execution_count": null,
   "metadata": {},
   "outputs": [],
   "source": [
    "# Função para encontrar a última camada convolucional\n",
    "def get_last_conv_layer(model):\n",
    "    last_conv_layer = None\n",
    "    for name, module in model.named_modules():\n",
    "        if isinstance(module, torch.nn.Conv2d):\n",
    "            last_conv_layer = name\n",
    "    return last_conv_layer\n",
    "\n",
    "# Obter a última camada convolucional\n",
    "target_layer = get_last_conv_layer(model)\n",
    "print(f\"Camada alvo encontrada: {target_layer}\")"
   ]
  },
  {
   "cell_type": "code",
   "execution_count": null,
   "metadata": {},
   "outputs": [],
   "source": [
    "# Função para carregar e pré-processar a imagem\n",
    "def load_image(image_path):\n",
    "    img = Image.open(image_path).convert('RGB')\n",
    "    img_tensor = preprocess(img).unsqueeze(0)\n",
    "    return img, img_tensor.to(device)"
   ]
  },
  {
   "cell_type": "code",
   "execution_count": null,
   "metadata": {},
   "outputs": [],
   "source": [
    "# Função para gerar e sobrepor o mapa de calor\n",
    "def generate_heatmap(model, img_tensor, original_img, target_layer):\n",
    "    # Inicializar o método SmoothGradCAM++\n",
    "    cam_extractor = SmoothGradCAMpp(model, target_layer=target_layer)\n",
    "    \n",
    "    # Ativar gradientes para a entrada\n",
    "    img_tensor.requires_grad_(True)\n",
    "    \n",
    "    # Forward pass para obter predição (sem no_grad para permitir gradientes)\n",
    "    output = model(img_tensor)\n",
    "    pred = torch.argmax(output, dim=1).item()\n",
    "    \n",
    "    # Gerar o mapa de calor\n",
    "    activation_map = cam_extractor(output.squeeze(0).argmax().item(), output)\n",
    "    heatmap = activation_map[0].cpu().numpy()\n",
    "    \n",
    "    # Se o heatmap tiver múltiplos canais, reduzi-lo a um único canal (média ou soma)\n",
    "    if len(heatmap.shape) == 3:  # Caso o heatmap tenha múltiplos canais (C, H, W)\n",
    "        heatmap = np.mean(heatmap, axis=0)  # Média ao longo dos canais\n",
    "    \n",
    "    # Normalizar o mapa de calor\n",
    "    heatmap = np.maximum(heatmap, 0)\n",
    "    heatmap = heatmap / (heatmap.max() + 1e-10)  # Adicionar pequena constante para evitar divisão por zero\n",
    "    \n",
    "    # Redimensionar para o tamanho da imagem original\n",
    "    heatmap = cv2.resize(heatmap, (original_img.size[0], original_img.size[1]))\n",
    "    \n",
    "    # Garantir que o heatmap esteja no formato correto (escala de cinza, 8 bits)\n",
    "    heatmap = np.uint8(255 * heatmap)\n",
    "    \n",
    "    # Aplicar o mapa de cores (deve ser CV_8UC1)\n",
    "    heatmap_colored = cv2.applyColorMap(heatmap, cv2.COLORMAP_JET)\n",
    "    \n",
    "    # Sobrepor o mapa de calor na imagem original\n",
    "    original_img_np = np.array(original_img)\n",
    "    superimposed_img = heatmap_colored * 0.4 + original_img_np * 0.6\n",
    "    superimposed_img = np.uint8(superimposed_img)\n",
    "    \n",
    "    return superimposed_img, pred"
   ]
  },
  {
   "cell_type": "code",
   "execution_count": null,
   "metadata": {},
   "outputs": [],
   "source": [
    "# Função principal para processar e visualizar resultados\n",
    "def process_and_visualize(image_path, target_layer):\n",
    "    original_img, img_tensor = load_image(image_path)\n",
    "    result_img, prediction = generate_heatmap(model, img_tensor, original_img, target_layer)\n",
    "    \n",
    "    plt.figure(figsize=(12, 4))\n",
    "    plt.subplot(1, 2, 1)\n",
    "    plt.imshow(original_img)\n",
    "    plt.title('Imagem Original')\n",
    "    plt.axis('off')\n",
    "    \n",
    "    plt.subplot(1, 2, 2)\n",
    "    plt.imshow(result_img)\n",
    "    plt.title(f'Mapa de Calor - Predição: {\"Fake\" if prediction == 1 else \"Real\"}')\n",
    "    plt.axis('off')\n",
    "    \n",
    "    plt.tight_layout()\n",
    "    plt.show()"
   ]
  },
  {
   "cell_type": "code",
   "execution_count": null,
   "metadata": {},
   "outputs": [],
   "source": [
    "# Testar com uma imagem do diretório\n",
    "if __name__ == \"__main__\":\n",
    "    test_images = [f for f in os.listdir(TEST_DIR) if f.endswith(('.png', '.jpg', '.jpeg'))]\n",
    "    if test_images:\n",
    "        test_image_path = os.path.join(TEST_DIR, test_images[0])\n",
    "        print(f\"Processando: {test_image_path}\")\n",
    "        process_and_visualize(test_image_path, target_layer)\n",
    "    else:\n",
    "        print(\"Nenhuma imagem encontrada no diretório especificado.\")"
   ]
  }
 ],
 "metadata": {
  "kernelspec": {
   "display_name": "myenv",
   "language": "python",
   "name": "python3"
  },
  "language_info": {
   "codemirror_mode": {
    "name": "ipython",
    "version": 3
   },
   "file_extension": ".py",
   "mimetype": "text/x-python",
   "name": "python",
   "nbconvert_exporter": "python",
   "pygments_lexer": "ipython3",
   "version": "3.12.5"
  }
 },
 "nbformat": 4,
 "nbformat_minor": 2
}
